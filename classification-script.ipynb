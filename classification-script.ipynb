{
 "cells": [
  {
   "cell_type": "code",
   "execution_count": 1,
   "metadata": {},
   "outputs": [],
   "source": [
    "#import all required libraries\n",
    "\n",
    "import os\n",
    "import cv2\n",
    "import glob\n",
    "import numpy as np\n",
    "from skimage.feature import hog\n",
    "from matplotlib import pyplot as plt\n",
    "from sklearn.model_selection import train_test_split\n",
    "from sklearn import svm\n",
    "from sklearn.naive_bayes import GaussianNB\n",
    "from sklearn.neighbors import KNeighborsClassifier\n",
    "from sklearn.tree import DecisionTreeClassifier\n",
    "from sklearn.ensemble import RandomForestClassifier\n",
    "from sklearn.linear_model import LogisticRegression\n",
    "from sklearn import metrics\n",
    "from sklearn.metrics import classification_report "
   ]
  },
  {
   "cell_type": "code",
   "execution_count": 2,
   "metadata": {},
   "outputs": [],
   "source": [
    "#path to the dataset\n",
    "\n",
    "path='Dataset/*'"
   ]
  },
  {
   "cell_type": "code",
   "execution_count": 3,
   "metadata": {},
   "outputs": [
    {
     "name": "stdout",
     "output_type": "stream",
     "text": [
      "250\n"
     ]
    }
   ],
   "source": [
    "#read multiple file\n",
    "\n",
    "data_path = os.path.join(path,'*g')\n",
    "imagePaths = glob.glob(data_path)\n",
    "print(len(imagePaths))"
   ]
  },
  {
   "cell_type": "code",
   "execution_count": 5,
   "metadata": {},
   "outputs": [],
   "source": [
    "#  define a function for image segmentation\n",
    "# for extraction of green and brown color\n",
    "\n",
    "def img_segmentation(image):\n",
    "    rgb_img = cv2.cvtColor(image, cv2.COLOR_BGR2RGB)\n",
    "    hsv_img = cv2.cvtColor(rgb_img, cv2.COLOR_RGB2HSV)\n",
    "    lower_green = np.array([25,0,20])\n",
    "    upper_green = np.array([100,255,255])\n",
    "    healthy_mask = cv2.inRange(hsv_img, lower_green, upper_green)\n",
    "    result = cv2.bitwise_and(rgb_img,rgb_img, mask=healthy_mask)\n",
    "    lower_brown = np.array([10,0,10])\n",
    "    upper_brown = np.array([30,255,255])\n",
    "    disease_mask = cv2.inRange(hsv_img, lower_brown, upper_brown)\n",
    "    disease_result = cv2.bitwise_and(rgb_img, rgb_img, mask=disease_mask)\n",
    "    final_mask = healthy_mask + disease_mask\n",
    "    final_result = cv2.bitwise_and(rgb_img, rgb_img, mask=final_mask)\n",
    "    return final_result"
   ]
  },
  {
   "cell_type": "code",
   "execution_count": 6,
   "metadata": {},
   "outputs": [],
   "source": [
    "#declare two empty lists for labels and features\n",
    "\n",
    "labels = []\n",
    "hogFeatures = []"
   ]
  },
  {
   "cell_type": "code",
   "execution_count": 7,
   "metadata": {},
   "outputs": [
    {
     "name": "stdout",
     "output_type": "stream",
     "text": [
      "Wait, I am performing preprocessing steps and extracting HOG features...\n",
      "I am Done.\n"
     ]
    }
   ],
   "source": [
    "# loop over the input images \n",
    "\n",
    "print('Wait, I am performing preprocessing steps and extracting HOG features...')\n",
    "\n",
    "for imagePath in imagePaths:\n",
    "    \n",
    "    # load the image, pre-process it, and store it in the data list\n",
    "    image = cv2.imread(imagePath)\n",
    "    \n",
    "    # resize image to 256*256\n",
    "    image = cv2.resize(image, (256,256)) \n",
    "    \n",
    "    # perform image sagmentation\n",
    "    segmented_img   = img_segmentation(image)\n",
    "    \n",
    "    # extract HOG features\n",
    "    features, hog_image = hog(segmented_img, orientations=8, pixels_per_cell=(8, 8),\n",
    "                    cells_per_block=(1, 1), visualize=True, multichannel=True)\n",
    "    \n",
    "    # store features\n",
    "    hogFeatures.append(features)\n",
    "    \n",
    "    #extract labels\n",
    "    label = imagePath.split(os.path.sep)[-2].split('_')\n",
    "    labels.append(label)\n",
    "    \n",
    "print('I am Done.')"
   ]
  },
  {
   "cell_type": "code",
   "execution_count": 8,
   "metadata": {},
   "outputs": [],
   "source": [
    "#split the data to train and test formate\n",
    "\n",
    "X_train, X_test, y_train, y_test = train_test_split(hogFeatures, labels, test_size = 0.3 )"
   ]
  },
  {
   "cell_type": "code",
   "execution_count": 9,
   "metadata": {},
   "outputs": [],
   "source": [
    "# Defining all classifires\n",
    "\n",
    "#Create a svm Classifier\n",
    "model_SVM = svm.SVC(kernel='linear') # Linear Ke\n",
    "\n",
    "#Create a Gaussian Classifier\n",
    "model_NB = GaussianNB()\n",
    "\n",
    "# Create Decision Tree classifer object\n",
    "model_DT = DecisionTreeClassifier()\n",
    "\n",
    "# Create Knn classifer object\n",
    "model_KNN = KNeighborsClassifier(n_neighbors=3)\n",
    "\n",
    "#Create a RF Classifier\n",
    "model_RF = RandomForestClassifier(n_estimators=100)\n",
    "\n",
    "#Create a LR Classifier\n",
    "model_LR = LogisticRegression(solver=\"lbfgs\", multi_class=\"auto\")"
   ]
  },
  {
   "cell_type": "code",
   "execution_count": 10,
   "metadata": {},
   "outputs": [
    {
     "data": {
      "text/plain": [
       "SVC(kernel='linear')"
      ]
     },
     "execution_count": 10,
     "metadata": {},
     "output_type": "execute_result"
    }
   ],
   "source": [
    "#Train the SVM model using the training sets\n",
    "\n",
    "model_SVM.fit(X_train, np.ravel(y_train))"
   ]
  },
  {
   "cell_type": "code",
   "execution_count": 11,
   "metadata": {},
   "outputs": [
    {
     "data": {
      "text/plain": [
       "GaussianNB()"
      ]
     },
     "execution_count": 11,
     "metadata": {},
     "output_type": "execute_result"
    }
   ],
   "source": [
    "#Train the NB model using the training sets\n",
    "\n",
    "model_NB.fit(X_train, np.ravel(y_train))"
   ]
  },
  {
   "cell_type": "code",
   "execution_count": 12,
   "metadata": {},
   "outputs": [
    {
     "data": {
      "text/plain": [
       "DecisionTreeClassifier()"
      ]
     },
     "execution_count": 12,
     "metadata": {},
     "output_type": "execute_result"
    }
   ],
   "source": [
    "#Train the DT model using the training sets\n",
    "\n",
    "model_DT.fit(X_train, np.ravel(y_train))"
   ]
  },
  {
   "cell_type": "code",
   "execution_count": 13,
   "metadata": {},
   "outputs": [
    {
     "data": {
      "text/plain": [
       "KNeighborsClassifier(n_neighbors=3)"
      ]
     },
     "execution_count": 13,
     "metadata": {},
     "output_type": "execute_result"
    }
   ],
   "source": [
    "#Train the knn model using the training sets\n",
    "\n",
    "model_KNN.fit(X_train, np.ravel(y_train))"
   ]
  },
  {
   "cell_type": "code",
   "execution_count": 14,
   "metadata": {},
   "outputs": [
    {
     "data": {
      "text/plain": [
       "RandomForestClassifier()"
      ]
     },
     "execution_count": 14,
     "metadata": {},
     "output_type": "execute_result"
    }
   ],
   "source": [
    "#Train the RF model using the training sets\n",
    "\n",
    "model_RF.fit(X_train, np.ravel(y_train))"
   ]
  },
  {
   "cell_type": "code",
   "execution_count": 15,
   "metadata": {},
   "outputs": [
    {
     "name": "stderr",
     "output_type": "stream",
     "text": [
      "C:\\Users\\Umar Farooq\\anaconda3\\lib\\site-packages\\sklearn\\linear_model\\_logistic.py:765: ConvergenceWarning: lbfgs failed to converge (status=1):\n",
      "STOP: TOTAL NO. of ITERATIONS REACHED LIMIT.\n",
      "\n",
      "Increase the number of iterations (max_iter) or scale the data as shown in:\n",
      "    https://scikit-learn.org/stable/modules/preprocessing.html\n",
      "Please also refer to the documentation for alternative solver options:\n",
      "    https://scikit-learn.org/stable/modules/linear_model.html#logistic-regression\n",
      "  extra_warning_msg=_LOGISTIC_SOLVER_CONVERGENCE_MSG)\n"
     ]
    },
    {
     "data": {
      "text/plain": [
       "LogisticRegression()"
      ]
     },
     "execution_count": 15,
     "metadata": {},
     "output_type": "execute_result"
    }
   ],
   "source": [
    "#Train the LR using the training sets\n",
    "\n",
    "model_LR.fit(X_train, np.ravel(y_train))"
   ]
  },
  {
   "cell_type": "code",
   "execution_count": 16,
   "metadata": {},
   "outputs": [],
   "source": [
    "# prediction on test data \n",
    "\n",
    "#Predict the response for test dataset \n",
    "SVM_pred = model_SVM.predict(X_test)\n",
    "\n",
    "#Predict the response for test dataset \n",
    "NB_pred = model_NB.predict(X_test)\n",
    "\n",
    "#Predict the response for test dataset \n",
    "DT_pred = model_DT.predict(X_test)\n",
    "\n",
    "#Predict the response for test dataset \n",
    "KNN_pred = model_KNN.predict(X_test)\n",
    "\n",
    "#Predict the response for test dataset \n",
    "RF_pred = model_RF.predict(X_test)\n",
    "\n",
    "#Predict the response for test dataset \n",
    "LR_pred = model_LR.predict(X_test)"
   ]
  },
  {
   "cell_type": "code",
   "execution_count": 17,
   "metadata": {},
   "outputs": [
    {
     "name": "stdout",
     "output_type": "stream",
     "text": [
      " SVM Accuracy: 0.84\n",
      " NB Accuracy: 0.4666666666666667\n",
      "DT Accuracy: 0.49333333333333335\n",
      "KNN Accuracy: 0.72\n",
      "RF Accuracy: 0.7333333333333333\n",
      "LR Accuracy: 0.7733333333333333\n"
     ]
    }
   ],
   "source": [
    "# Model Accuracy: how often is the classifier correct?\n",
    "print(\" SVM Accuracy:\", metrics.accuracy_score (y_test, SVM_pred))\n",
    "\n",
    "# Model Accuracy: how often is the classifier correct?\n",
    "print(\"NB Accuracy:\", metrics.accuracy_score (y_test, NB_pred))\n",
    "\n",
    "# Model Accuracy: how often is the classifier correct?\n",
    "print(\"DT Accuracy:\", metrics.accuracy_score (y_test, DT_pred))\n",
    "\n",
    "# Model Accuracy: how often is the classifier correct?\n",
    "print(\"KNN Accuracy:\", metrics.accuracy_score (y_test, KNN_pred))\n",
    "\n",
    "# Model Accuracy: how often is the classifier correct?\n",
    "print(\"RF Accuracy:\", metrics.accuracy_score (y_test, RF_pred))\n",
    "\n",
    "# Model Accuracy: how often is the classifier correct?\n",
    "print(\"LR Accuracy:\", metrics.accuracy_score (y_test, LR_pred))"
   ]
  },
  {
   "cell_type": "code",
   "execution_count": 18,
   "metadata": {},
   "outputs": [
    {
     "name": "stdout",
     "output_type": "stream",
     "text": [
      "Classification Report of Support Vector Machine \n",
      "\n",
      "\n",
      "                         precision    recall  f1-score   support\n",
      "\n",
      "         Bacterial spot       0.89      1.00      0.94        16\n",
      "                Healthy       0.67      1.00      0.80        16\n",
      "     Spote spider mites       0.87      0.93      0.90        14\n",
      "           Mosaic virus       1.00      0.35      0.52        17\n",
      "Yellow leaf curlr virus       1.00      1.00      1.00        12\n",
      "\n",
      "               accuracy                           0.84        75\n",
      "              macro avg       0.88      0.86      0.83        75\n",
      "           weighted avg       0.88      0.84      0.82        75\n",
      "\n",
      "****************************************************************\n",
      "Classification Report of Naïve Bayes \n",
      "\n",
      "\n",
      "                         precision    recall  f1-score   support\n",
      "\n",
      "         Bacterial spot       0.36      0.75      0.49        16\n",
      "                Healthy       0.31      0.25      0.28        16\n",
      "     Spote spider mites       0.83      0.36      0.50        14\n",
      "           Mosaic virus       0.29      0.12      0.17        17\n",
      "Yellow leaf curlr virus       0.75      1.00      0.86        12\n",
      "\n",
      "               accuracy                           0.47        75\n",
      "              macro avg       0.51      0.49      0.46        75\n",
      "           weighted avg       0.48      0.47      0.43        75\n",
      "\n",
      "****************************************************************\n",
      "Classification Report of Decision Tree \n",
      "\n",
      "\n",
      "                         precision    recall  f1-score   support\n",
      "\n",
      "         Bacterial spot       0.50      0.50      0.50        16\n",
      "                Healthy       0.33      0.38      0.35        16\n",
      "     Spote spider mites       0.69      0.79      0.73        14\n",
      "           Mosaic virus       0.40      0.24      0.30        17\n",
      "Yellow leaf curlr virus       0.53      0.67      0.59        12\n",
      "\n",
      "               accuracy                           0.49        75\n",
      "              macro avg       0.49      0.51      0.50        75\n",
      "           weighted avg       0.48      0.49      0.48        75\n",
      "\n",
      "****************************************************************\n",
      "Classification Report of K-Nearest Neighbours \n",
      "\n",
      "\n",
      "                         precision    recall  f1-score   support\n",
      "\n",
      "         Bacterial spot       0.68      0.81      0.74        16\n",
      "                Healthy       0.54      0.88      0.67        16\n",
      "     Spote spider mites       0.92      0.86      0.89        14\n",
      "           Mosaic virus       0.80      0.47      0.59        17\n",
      "Yellow leaf curlr virus       1.00      0.58      0.74        12\n",
      "\n",
      "               accuracy                           0.72        75\n",
      "              macro avg       0.79      0.72      0.73        75\n",
      "           weighted avg       0.77      0.72      0.72        75\n",
      "\n",
      "****************************************************************\n",
      "Classification Report of Random Forest \n",
      "\n",
      "\n",
      "                         precision    recall  f1-score   support\n",
      "\n",
      "         Bacterial spot       0.71      0.75      0.73        16\n",
      "                Healthy       0.71      0.75      0.73        16\n",
      "     Spote spider mites       0.78      1.00      0.88        14\n",
      "           Mosaic virus       0.67      0.35      0.46        17\n",
      "Yellow leaf curlr virus       0.79      0.92      0.85        12\n",
      "\n",
      "               accuracy                           0.73        75\n",
      "              macro avg       0.73      0.75      0.73        75\n",
      "           weighted avg       0.72      0.73      0.71        75\n",
      "\n",
      "****************************************************************\n",
      "Classification Report of Logistic Regression \n",
      "\n",
      "\n",
      "                         precision    recall  f1-score   support\n",
      "\n",
      "         Bacterial spot       0.82      0.88      0.85        16\n",
      "                Healthy       0.64      0.88      0.74        16\n",
      "     Spote spider mites       0.87      0.93      0.90        14\n",
      "           Mosaic virus       0.71      0.29      0.42        17\n",
      "Yellow leaf curlr virus       0.86      1.00      0.92        12\n",
      "\n",
      "               accuracy                           0.77        75\n",
      "              macro avg       0.78      0.79      0.76        75\n",
      "           weighted avg       0.77      0.77      0.75        75\n",
      "\n",
      "****************************************************************\n"
     ]
    }
   ],
   "source": [
    "# Classification Report\n",
    "\n",
    "target_names=[\"Bacterial spot\",\"Healthy\",\"Spote spider mites\",\"Mosaic virus\",\"Yellow leaf curlr virus\"]\n",
    "\n",
    "# Classification Report for SVM\n",
    "print('Classification Report of Support Vector Machine ')\n",
    "print('\\n')\n",
    "print(classification_report(y_test, SVM_pred, target_names=target_names))\n",
    "print('****************************************************************')\n",
    "\n",
    "# Classification Report for Gaussian Naïve Bayes Classifier\n",
    "print('Classification Report of Naïve Bayes ')\n",
    "print('\\n')\n",
    "print(classification_report(y_test, NB_pred, target_names=target_names))\n",
    "print('****************************************************************')\n",
    "\n",
    "# Classification Report for SVM\n",
    "print('Classification Report of Decision Tree ')\n",
    "print('\\n')\n",
    "print(classification_report(y_test, DT_pred, target_names=target_names))\n",
    "print('****************************************************************')\n",
    "\n",
    "# Classification Report for K-Nearest Neighbours\n",
    "print('Classification Report of K-Nearest Neighbours ')\n",
    "print('\\n')\n",
    "print(classification_report(y_test, KNN_pred, target_names=target_names))\n",
    "print('****************************************************************')\n",
    "\n",
    "# Classification Report for Random Forest\n",
    "print('Classification Report of Random Forest ')\n",
    "print('\\n')\n",
    "print(classification_report(y_test, RF_pred, target_names=target_names))\n",
    "print('****************************************************************')\n",
    "\n",
    "# Classification Report for Random Forest\n",
    "print('Classification Report of Logistic Regression ')\n",
    "print('\\n')\n",
    "print(classification_report(y_test, LR_pred, target_names=target_names))\n",
    "print('****************************************************************')"
   ]
  },
  {
   "cell_type": "code",
   "execution_count": 19,
   "metadata": {},
   "outputs": [
    {
     "name": "stdout",
     "output_type": "stream",
     "text": [
      "['Tomato yellow leaf curl virus']\n",
      "['Tomato mosaic virus']\n",
      "['Tomato yellow leaf curl virus']\n",
      "['Tomato yellow leaf curl virus']\n",
      "['Tomato mosaic virus']\n",
      "['Tomato bacterial spot']\n",
      "['Tomato yellow leaf curl virus']\n",
      "['Tomato mosaic virus']\n",
      "['Tomato spotted spider mite']\n",
      "['Tomato healthy']\n",
      "['Tomato spotted spider mite']\n",
      "['Tomato bacterial spot']\n",
      "['Tomato bacterial spot']\n",
      "['Tomato mosaic virus']\n",
      "['Tomato bacterial spot']\n",
      "['Tomato healthy']\n",
      "['Tomato healthy']\n",
      "['Tomato healthy']\n",
      "['Tomato healthy']\n",
      "['Tomato mosaic virus']\n"
     ]
    }
   ],
   "source": [
    "# performing prediction on images\n",
    "# loop over the input images\n",
    "\n",
    "for img in glob.glob('Validation/*'):\n",
    "    \n",
    "    image= cv2.imread(img)\n",
    "    image = cv2.resize(image, (256,256)) \n",
    "    segmented_img   = img_segmentation(image)  \n",
    "\n",
    "    features, hog_image = hog(segmented_img, orientations=8, pixels_per_cell=(8, 8), cells_per_block=(1, 1), visualize=True, multichannel=True)\n",
    "\n",
    "    #cv2.imshow('',img1)\n",
    "    features=features.reshape(1, -1)\n",
    "      \n",
    "    # font shape and style\n",
    "    font = cv2.FONT_HERSHEY_SIMPLEX \n",
    "    org = (1, 20) \n",
    "    fontScale = 0.5\n",
    "    color = (0, 0, 255) \n",
    "    thickness = 1\n",
    "    \n",
    "    # Testing images using SVM trained model\n",
    "    result = model_SVM.predict(features)\n",
    "\n",
    "    # Using cv2.putText() method \n",
    "    result=str(result)\n",
    "    print(result)\n",
    "    \n",
    "    image = cv2.putText(image,result, org, font, fontScale, \n",
    "            color, thickness, cv2.LINE_AA, False)  \n",
    "    \n",
    "  \n",
    "    # Displaying the image \n",
    "    cv2.imshow('', image)  \n",
    "    cv2.waitKey(0)\n",
    "    cv2.destroyAllWindows()"
   ]
  },
  {
   "cell_type": "code",
   "execution_count": null,
   "metadata": {},
   "outputs": [],
   "source": []
  }
 ],
 "metadata": {
  "kernelspec": {
   "display_name": "Python 3",
   "language": "python",
   "name": "python3"
  },
  "language_info": {
   "codemirror_mode": {
    "name": "ipython",
    "version": 3
   },
   "file_extension": ".py",
   "mimetype": "text/x-python",
   "name": "python",
   "nbconvert_exporter": "python",
   "pygments_lexer": "ipython3",
   "version": "3.7.0"
  }
 },
 "nbformat": 4,
 "nbformat_minor": 4
}
